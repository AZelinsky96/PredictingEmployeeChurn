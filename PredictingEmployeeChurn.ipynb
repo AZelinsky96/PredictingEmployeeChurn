{
 "cells": [
  {
   "cell_type": "markdown",
   "metadata": {},
   "source": [
    "## Predicting Employee Churn"
   ]
  },
  {
   "cell_type": "code",
   "execution_count": 1,
   "metadata": {},
   "outputs": [],
   "source": [
    "import os\n",
    "import pandas as pd\n",
    "import matplotlib.pyplot as plt\n",
    "import seaborn as sns\n",
    "from sklearn.model_selection import train_test_split\n",
    "from sklearn.tree import DecisionTreeClassifier\n",
    "from sklearn.metrics import confusion_matrix, recall_score, precision_score, roc_auc_score\n",
    "from sklearn.model_selection import GridSearchCV\n",
    "from sklearn.tree import export_graphviz\n",
    "from sklearn.externals.six import StringIO\n",
    "from IPython.display import Image\n",
    "import pydotplus\n",
    "import collections\n"
   ]
  },
  {
   "cell_type": "code",
   "execution_count": 2,
   "metadata": {},
   "outputs": [],
   "source": [
    "os.chdir('/home/zeski/PythonLessons/MachineLearning/Data')"
   ]
  },
  {
   "cell_type": "markdown",
   "metadata": {},
   "source": [
    "## Cleaning and EDA:"
   ]
  },
  {
   "cell_type": "code",
   "execution_count": 3,
   "metadata": {},
   "outputs": [],
   "source": [
    "df = pd.read_csv('turnover.csv')"
   ]
  },
  {
   "cell_type": "code",
   "execution_count": 4,
   "metadata": {},
   "outputs": [
    {
     "name": "stdout",
     "output_type": "stream",
     "text": [
      "<class 'pandas.core.frame.DataFrame'>\n",
      "RangeIndex: 14999 entries, 0 to 14998\n",
      "Data columns (total 10 columns):\n",
      "satisfaction            14999 non-null float64\n",
      "evaluation              14999 non-null float64\n",
      "number_of_projects      14999 non-null int64\n",
      "average_montly_hours    14999 non-null int64\n",
      "time_spend_company      14999 non-null int64\n",
      "work_accident           14999 non-null int64\n",
      "churn                   14999 non-null int64\n",
      "promotion               14999 non-null int64\n",
      "department              14999 non-null object\n",
      "salary                  14999 non-null object\n",
      "dtypes: float64(2), int64(6), object(2)\n",
      "memory usage: 1.1+ MB\n",
      "None\n",
      "=========================================\n",
      "Looks like there are no null objects, however I will need to transform the department and salary datatypes from object to necessary\n",
      "\n",
      "=========================================\n",
      "    satisfaction  evaluation  number_of_projects  average_montly_hours  \\\n",
      "0          0.38        0.53                   2                   157   \n",
      "1          0.80        0.86                   5                   262   \n",
      "2          0.11        0.88                   7                   272   \n",
      "3          0.72        0.87                   5                   223   \n",
      "4          0.37        0.52                   2                   159   \n",
      "\n",
      "   time_spend_company  work_accident  churn  promotion department  salary  \n",
      "0                   3              0      1          0      sales     low  \n",
      "1                   6              0      1          0      sales  medium  \n",
      "2                   4              0      1          0      sales  medium  \n",
      "3                   5              0      1          0      sales     low  \n",
      "4                   3              0      1          0      sales     low  \n",
      "=========================================\n",
      "It looks we have columns that can be converted to categories \n"
     ]
    }
   ],
   "source": [
    "print(df.info())\n",
    "print('=========================================\\nLooks like there are no null objects, however I will need to transform the department and salary datatypes from object to necessary\\n')\n",
    "print('=========================================\\n', df.head())\n",
    "print('=========================================\\nIt looks we have columns that can be converted to categories ')"
   ]
  },
  {
   "cell_type": "code",
   "execution_count": 5,
   "metadata": {},
   "outputs": [
    {
     "name": "stderr",
     "output_type": "stream",
     "text": [
      "/home/zeski/anaconda3/lib/python3.6/site-packages/ipykernel_launcher.py:2: FutureWarning: specifying 'categories' or 'ordered' in .astype() is deprecated; pass a CategoricalDtype instead\n",
      "  \n"
     ]
    }
   ],
   "source": [
    "df['department'] = df.department.astype('category')\n",
    "df['salary']    = df.salary.astype('category', ordered= True,categories = ['low','medium','high'])\n",
    "code_map_salary = {\n",
    "    'low'    : 0,\n",
    "    'medium' : 1,\n",
    "    'high'   : 2\n",
    "}\n",
    "df.salary = df.salary.map(code_map_salary)\n"
   ]
  },
  {
   "cell_type": "code",
   "execution_count": 6,
   "metadata": {},
   "outputs": [
    {
     "name": "stdout",
     "output_type": "stream",
     "text": [
      "<class 'pandas.core.frame.DataFrame'>\n",
      "RangeIndex: 14999 entries, 0 to 14998\n",
      "Data columns (total 10 columns):\n",
      "satisfaction            14999 non-null float64\n",
      "evaluation              14999 non-null float64\n",
      "number_of_projects      14999 non-null int64\n",
      "average_montly_hours    14999 non-null int64\n",
      "time_spend_company      14999 non-null int64\n",
      "work_accident           14999 non-null int64\n",
      "churn                   14999 non-null int64\n",
      "promotion               14999 non-null int64\n",
      "department              14999 non-null category\n",
      "salary                  14999 non-null int64\n",
      "dtypes: category(1), float64(2), int64(7)\n",
      "memory usage: 1.0 MB\n"
     ]
    }
   ],
   "source": [
    "df.info()\n"
   ]
  },
  {
   "cell_type": "code",
   "execution_count": 7,
   "metadata": {},
   "outputs": [
    {
     "data": {
      "text/html": [
       "<div>\n",
       "<style scoped>\n",
       "    .dataframe tbody tr th:only-of-type {\n",
       "        vertical-align: middle;\n",
       "    }\n",
       "\n",
       "    .dataframe tbody tr th {\n",
       "        vertical-align: top;\n",
       "    }\n",
       "\n",
       "    .dataframe thead th {\n",
       "        text-align: right;\n",
       "    }\n",
       "</style>\n",
       "<table border=\"1\" class=\"dataframe\">\n",
       "  <thead>\n",
       "    <tr style=\"text-align: right;\">\n",
       "      <th></th>\n",
       "      <th>IT</th>\n",
       "      <th>RandD</th>\n",
       "      <th>accounting</th>\n",
       "      <th>hr</th>\n",
       "      <th>management</th>\n",
       "      <th>marketing</th>\n",
       "      <th>product_mng</th>\n",
       "      <th>sales</th>\n",
       "      <th>support</th>\n",
       "    </tr>\n",
       "  </thead>\n",
       "  <tbody>\n",
       "    <tr>\n",
       "      <th>0</th>\n",
       "      <td>0</td>\n",
       "      <td>0</td>\n",
       "      <td>0</td>\n",
       "      <td>0</td>\n",
       "      <td>0</td>\n",
       "      <td>0</td>\n",
       "      <td>0</td>\n",
       "      <td>1</td>\n",
       "      <td>0</td>\n",
       "    </tr>\n",
       "    <tr>\n",
       "      <th>1</th>\n",
       "      <td>0</td>\n",
       "      <td>0</td>\n",
       "      <td>0</td>\n",
       "      <td>0</td>\n",
       "      <td>0</td>\n",
       "      <td>0</td>\n",
       "      <td>0</td>\n",
       "      <td>1</td>\n",
       "      <td>0</td>\n",
       "    </tr>\n",
       "    <tr>\n",
       "      <th>2</th>\n",
       "      <td>0</td>\n",
       "      <td>0</td>\n",
       "      <td>0</td>\n",
       "      <td>0</td>\n",
       "      <td>0</td>\n",
       "      <td>0</td>\n",
       "      <td>0</td>\n",
       "      <td>1</td>\n",
       "      <td>0</td>\n",
       "    </tr>\n",
       "    <tr>\n",
       "      <th>3</th>\n",
       "      <td>0</td>\n",
       "      <td>0</td>\n",
       "      <td>0</td>\n",
       "      <td>0</td>\n",
       "      <td>0</td>\n",
       "      <td>0</td>\n",
       "      <td>0</td>\n",
       "      <td>1</td>\n",
       "      <td>0</td>\n",
       "    </tr>\n",
       "    <tr>\n",
       "      <th>4</th>\n",
       "      <td>0</td>\n",
       "      <td>0</td>\n",
       "      <td>0</td>\n",
       "      <td>0</td>\n",
       "      <td>0</td>\n",
       "      <td>0</td>\n",
       "      <td>0</td>\n",
       "      <td>1</td>\n",
       "      <td>0</td>\n",
       "    </tr>\n",
       "  </tbody>\n",
       "</table>\n",
       "</div>"
      ],
      "text/plain": [
       "   IT  RandD  accounting  hr  management  marketing  product_mng  sales  \\\n",
       "0   0      0           0   0           0          0            0      1   \n",
       "1   0      0           0   0           0          0            0      1   \n",
       "2   0      0           0   0           0          0            0      1   \n",
       "3   0      0           0   0           0          0            0      1   \n",
       "4   0      0           0   0           0          0            0      1   \n",
       "\n",
       "   support  \n",
       "0        0  \n",
       "1        0  \n",
       "2        0  \n",
       "3        0  \n",
       "4        0  "
      ]
     },
     "execution_count": 7,
     "metadata": {},
     "output_type": "execute_result"
    }
   ],
   "source": [
    "departments = pd.get_dummies(df.department)\n",
    "#protecting agains dummies entrapment\n",
    "departments = departments.drop('technical',axis =1)\n",
    "departments.head()"
   ]
  },
  {
   "cell_type": "code",
   "execution_count": 8,
   "metadata": {},
   "outputs": [],
   "source": [
    "df = df.drop('department', axis=1)\n",
    "df = df.join(departments)"
   ]
  },
  {
   "cell_type": "code",
   "execution_count": 9,
   "metadata": {},
   "outputs": [
    {
     "name": "stdout",
     "output_type": "stream",
     "text": [
      "   satisfaction  evaluation  number_of_projects  average_montly_hours  \\\n",
      "0          0.38        0.53                   2                   157   \n",
      "1          0.80        0.86                   5                   262   \n",
      "2          0.11        0.88                   7                   272   \n",
      "3          0.72        0.87                   5                   223   \n",
      "4          0.37        0.52                   2                   159   \n",
      "\n",
      "   time_spend_company  work_accident  churn  promotion  salary  IT  RandD  \\\n",
      "0                   3              0      1          0       0   0      0   \n",
      "1                   6              0      1          0       1   0      0   \n",
      "2                   4              0      1          0       1   0      0   \n",
      "3                   5              0      1          0       0   0      0   \n",
      "4                   3              0      1          0       0   0      0   \n",
      "\n",
      "   accounting  hr  management  marketing  product_mng  sales  support  \n",
      "0           0   0           0          0            0      1        0  \n",
      "1           0   0           0          0            0      1        0  \n",
      "2           0   0           0          0            0      1        0  \n",
      "3           0   0           0          0            0      1        0  \n",
      "4           0   0           0          0            0      1        0  \n"
     ]
    }
   ],
   "source": [
    "print(df.head())"
   ]
  },
  {
   "cell_type": "markdown",
   "metadata": {},
   "source": [
    "<br>\n",
    "<br>\n",
    "Identifying how many employees stayed within the company: \n"
   ]
  },
  {
   "cell_type": "code",
   "execution_count": 10,
   "metadata": {},
   "outputs": [
    {
     "name": "stdout",
     "output_type": "stream",
     "text": [
      "0    11428\n",
      "1     3571\n",
      "Name: churn, dtype: int64 \n",
      "\n",
      "========================================\n",
      "\n",
      "0    76.191746\n",
      "1    23.808254\n",
      "Name: churn, dtype: float64\n"
     ]
    }
   ],
   "source": [
    "n_employees = len(df)\n",
    "#printing the total number of employees who stayed and didnt.\n",
    "print(df.churn.value_counts(), '\\n\\n========================================\\n')\n",
    "#Printing the percentages of who stayed and who didn't\n",
    "print(df.churn.value_counts()/n_employees * 100)"
   ]
  },
  {
   "cell_type": "markdown",
   "metadata": {},
   "source": [
    "<br><br>Examining the the correlations between variables and the target variable \n"
   ]
  },
  {
   "cell_type": "code",
   "execution_count": 11,
   "metadata": {},
   "outputs": [
    {
     "data": {
      "image/png": "[encoded data removed]",
      "text/plain": [
       "<Figure size 432x288 with 2 Axes>"
      ]
     },
     "metadata": {},
     "output_type": "display_data"
    },
    {
     "name": "stdout",
     "output_type": "stream",
     "text": [
      "                      satisfaction  evaluation  number_of_projects  \\\n",
      "satisfaction              1.000000    0.105021           -0.142970   \n",
      "evaluation                0.105021    1.000000            0.349333   \n",
      "number_of_projects       -0.142970    0.349333            1.000000   \n",
      "average_montly_hours     -0.020048    0.339742            0.417211   \n",
      "time_spend_company       -0.100866    0.131591            0.196786   \n",
      "work_accident             0.058697   -0.007104           -0.004741   \n",
      "churn                    -0.388375    0.006567            0.023787   \n",
      "promotion                 0.025605   -0.008684           -0.006064   \n",
      "salary                    0.050022   -0.013002           -0.001803   \n",
      "IT                        0.006373    0.001269            0.003287   \n",
      "RandD                     0.006615   -0.005471            0.009703   \n",
      "accounting               -0.028649    0.002193            0.004189   \n",
      "hr                       -0.012841   -0.009645           -0.027356   \n",
      "management                0.007172    0.009662            0.009728   \n",
      "marketing                 0.005715   -0.000311           -0.023064   \n",
      "product_mng               0.006919   -0.001989            0.000829   \n",
      "sales                     0.004007   -0.023031           -0.013388   \n",
      "support                   0.009185    0.017104            0.000303   \n",
      "\n",
      "                      average_montly_hours  time_spend_company  work_accident  \\\n",
      "satisfaction                     -0.020048           -0.100866       0.058697   \n",
      "evaluation                        0.339742            0.131591      -0.007104   \n",
      "number_of_projects                0.417211            0.196786      -0.004741   \n",
      "average_montly_hours              1.000000            0.127755      -0.010143   \n",
      "time_spend_company                0.127755            1.000000       0.002120   \n",
      "work_accident                    -0.010143            0.002120       1.000000   \n",
      "churn                             0.071287            0.144822      -0.154622   \n",
      "promotion                        -0.003544            0.067433       0.039245   \n",
      "salary                           -0.002242            0.048715       0.009247   \n",
      "IT                                0.006967           -0.006053      -0.009293   \n",
      "RandD                            -0.001177           -0.021116       0.017167   \n",
      "accounting                        0.000524            0.003909      -0.012836   \n",
      "hr                               -0.010783           -0.022194      -0.015649   \n",
      "management                        0.000834            0.115436       0.011242   \n",
      "marketing                        -0.008210            0.012096       0.011367   \n",
      "product_mng                      -0.005494           -0.003919       0.001246   \n",
      "sales                            -0.001718            0.015150      -0.004955   \n",
      "support                          -0.002444           -0.030111       0.012079   \n",
      "\n",
      "                         churn  promotion    salary        IT     RandD  \\\n",
      "satisfaction         -0.388375   0.025605  0.050022  0.006373  0.006615   \n",
      "evaluation            0.006567  -0.008684 -0.013002  0.001269 -0.005471   \n",
      "number_of_projects    0.023787  -0.006064 -0.001803  0.003287  0.009703   \n",
      "average_montly_hours  0.071287  -0.003544 -0.002242  0.006967 -0.001177   \n",
      "time_spend_company    0.144822   0.067433  0.048715 -0.006053 -0.021116   \n",
      "work_accident        -0.154622   0.039245  0.009247 -0.009293  0.017167   \n",
      "churn                 1.000000  -0.061788 -0.157898 -0.010925 -0.046596   \n",
      "promotion            -0.061788   1.000000  0.098119 -0.038942  0.021268   \n",
      "salary               -0.157898   0.098119  1.000000 -0.010959  0.002800   \n",
      "IT                   -0.010925  -0.038942 -0.010959  1.000000 -0.070240   \n",
      "RandD                -0.046596   0.021268  0.002800 -0.070240  1.000000   \n",
      "accounting            0.015201  -0.004852  0.012759 -0.069293 -0.054629   \n",
      "hr                    0.028249  -0.001531  0.004599 -0.067949 -0.053570   \n",
      "management           -0.046035   0.128087  0.156665 -0.062500 -0.049274   \n",
      "marketing            -0.000859   0.049253  0.011599 -0.073524 -0.057965   \n",
      "product_mng          -0.011029  -0.037288 -0.007669 -0.075503 -0.059525   \n",
      "sales                 0.009923   0.012353 -0.035599 -0.184302 -0.145300   \n",
      "support               0.010700  -0.035605 -0.029888 -0.124705 -0.098315   \n",
      "\n",
      "                      accounting        hr  management  marketing  \\\n",
      "satisfaction           -0.028649 -0.012841    0.007172   0.005715   \n",
      "evaluation              0.002193 -0.009645    0.009662  -0.000311   \n",
      "number_of_projects      0.004189 -0.027356    0.009728  -0.023064   \n",
      "average_montly_hours    0.000524 -0.010783    0.000834  -0.008210   \n",
      "time_spend_company      0.003909 -0.022194    0.115436   0.012096   \n",
      "work_accident          -0.012836 -0.015649    0.011242   0.011367   \n",
      "churn                   0.015201  0.028249   -0.046035  -0.000859   \n",
      "promotion              -0.004852 -0.001531    0.128087   0.049253   \n",
      "salary                  0.012759  0.004599    0.156665   0.011599   \n",
      "IT                     -0.069293 -0.067949   -0.062500  -0.073524   \n",
      "RandD                  -0.054629 -0.053570   -0.049274  -0.057965   \n",
      "accounting              1.000000 -0.052848   -0.048610  -0.057183   \n",
      "hr                     -0.052848  1.000000   -0.047667  -0.056075   \n",
      "management             -0.048610 -0.047667    1.000000  -0.051578   \n",
      "marketing              -0.057183 -0.056075   -0.051578   1.000000   \n",
      "product_mng            -0.058723 -0.057584   -0.052966  -0.062308   \n",
      "sales                  -0.143341 -0.140562   -0.129289  -0.152093   \n",
      "support                -0.096989 -0.095109   -0.087482  -0.102911   \n",
      "\n",
      "                      product_mng     sales   support  \n",
      "satisfaction             0.006919  0.004007  0.009185  \n",
      "evaluation              -0.001989 -0.023031  0.017104  \n",
      "number_of_projects       0.000829 -0.013388  0.000303  \n",
      "average_montly_hours    -0.005494 -0.001718 -0.002444  \n",
      "time_spend_company      -0.003919  0.015150 -0.030111  \n",
      "work_accident            0.001246 -0.004955  0.012079  \n",
      "churn                   -0.011029  0.009923  0.010700  \n",
      "promotion               -0.037288  0.012353 -0.035605  \n",
      "salary                  -0.007669 -0.035599 -0.029888  \n",
      "IT                      -0.075503 -0.184302 -0.124705  \n",
      "RandD                   -0.059525 -0.145300 -0.098315  \n",
      "accounting              -0.058723 -0.143341 -0.096989  \n",
      "hr                      -0.057584 -0.140562 -0.095109  \n",
      "management              -0.052966 -0.129289 -0.087482  \n",
      "marketing               -0.062308 -0.152093 -0.102911  \n",
      "product_mng              1.000000 -0.156187 -0.105682  \n",
      "sales                   -0.156187  1.000000 -0.257967  \n",
      "support                 -0.105682 -0.257967  1.000000  \n"
     ]
    }
   ],
   "source": [
    "corr_matrix = df.corr()\n",
    "sns.heatmap(corr_matrix)\n",
    "plt.show()\n",
    "print(corr_matrix)"
   ]
  },
  {
   "cell_type": "markdown",
   "metadata": {},
   "source": [
    "<br> Upon examining the Heat map, there is a clear negative correlation between satisfaction and employee churn. While this is a clear correlation, there are also negative correlations between work accident and salary."
   ]
  },
  {
   "cell_type": "markdown",
   "metadata": {},
   "source": [
    "## Building the Predictive Model: Decision Trees\n",
    "\n",
    "My target variable is Churn:"
   ]
  },
  {
   "cell_type": "code",
   "execution_count": 12,
   "metadata": {},
   "outputs": [
    {
     "name": "stdout",
     "output_type": "stream",
     "text": [
      "Accuracy on the train test 100.00%\n",
      "======================================\n",
      "Accuracy on the test set 97.33%\n"
     ]
    }
   ],
   "source": [
    "y = df['churn']\n",
    "y.head()\n",
    "X = df.drop('churn', axis = 1)\n",
    "\n",
    "X_train, X_test, y_train, y_test = train_test_split(X,y, random_state = 42, test_size = 0.25)\n",
    "\n",
    "\n",
    "clf = DecisionTreeClassifier(random_state= 42)\n",
    "_ = clf.fit(X_train, y_train)\n",
    "\n",
    "\n",
    "print('Accuracy on the train test {0:.2f}'.format(clf.score(X_train, y_train)*100 )+'%\\n======================================')\n",
    "print('Accuracy on the test set {0:.2f}'.format(clf.score(X_test, y_test)*100)+'%')"
   ]
  },
  {
   "cell_type": "markdown",
   "metadata": {},
   "source": [
    "<br>For prediction purposes, this is not a bad percentage, I will still perform a cross fold validation to see how the model performs overall with different data. <br>\n",
    "\n",
    "\n"
   ]
  },
  {
   "cell_type": "markdown",
   "metadata": {},
   "source": [
    "## Tuning the Classifier:\n",
    "\n",
    "Limiting the tree depth and samples"
   ]
  },
  {
   "cell_type": "code",
   "execution_count": 28,
   "metadata": {},
   "outputs": [
    {
     "name": "stdout",
     "output_type": "stream",
     "text": [
      "Limited Depth Accuracy on the train test 97.69%\n",
      "Limited Depth Accuracy on the test set 97.12%\n",
      "================================================\n",
      "Limited Sample Accuracy on the train test 96.58%\n",
      "Limited Sample Accuracy on the test set 96.13%\n",
      "================================================\n",
      "Combined Limit Accuracy on the train test 97.02%\n",
      "Combined Limit Accuracy on the test set 96.40%\n"
     ]
    }
   ],
   "source": [
    "clf_d5   = DecisionTreeClassifier(max_depth=5, random_state= 42)\n",
    "clf_s100 = DecisionTreeClassifier(min_samples_leaf=100, random_state=42)\n",
    "clf_comb = DecisionTreeClassifier(max_depth=5, min_samples_leaf=50, random_state = 42)\n",
    "\n",
    "clf_d5.fit(X_train, y_train)\n",
    "print('Limited Depth Accuracy on the train test {0:.2f}'.format(clf_d5.score(X_train, y_train)*100 )+'%')\n",
    "print('Limited Depth Accuracy on the test set {0:.2f}'.format(clf_d5.score(X_test, y_test)*100)+'%\\n================================================')\n",
    "\n",
    "clf_s100.fit(X_train, y_train)\n",
    "print('Limited Sample Accuracy on the train test {0:.2f}'.format(clf_s100.score(X_train, y_train)*100 )+'%')\n",
    "print('Limited Sample Accuracy on the test set {0:.2f}'.format(clf_s100.score(X_test, y_test)*100)+'%\\n================================================')\n",
    "\n",
    "clf_comb.fit(X_train, y_train)\n",
    "print('Combined Limit Accuracy on the train test {0:.2f}'.format(clf_comb.score(X_train, y_train)*100 )+'%')\n",
    "print('Combined Limit Accuracy on the test set {0:.2f}'.format(clf_comb.score(X_test, y_test)*100)+'%')"
   ]
  },
  {
   "cell_type": "markdown",
   "metadata": {},
   "source": [
    "<br>Looking at the confusion matrix and recall/precision for the three different models:\n",
    "\n",
    "\n"
   ]
  },
  {
   "cell_type": "code",
   "execution_count": 17,
   "metadata": {},
   "outputs": [
    {
     "name": "stdout",
     "output_type": "stream",
     "text": [
      "Confusion Matrix for first classifer:\n",
      "  [[2787   66]\n",
      " [  34  863]] \n",
      "\n",
      "Recall score for first classifer: 96.21%\n",
      "Precision score for first classifer: 92.90%\n",
      "Auc Score for first classifier: 96.95%\n",
      "================================================\n",
      "\n",
      "Confusion Matrix for second classifer:\n",
      "  [[2814   39]\n",
      " [  69  828]] \n",
      "\n",
      "Recall score for second classifer: 92.31%\n",
      "Precision score for second classifer: 95.50%\n",
      "Auc Score for second classifier: 95.47%\n",
      "================================================\n",
      "\n",
      "Confusion Matrix for third classifer:\n",
      "  [[2792   61]\n",
      " [  84  813]] \n",
      "\n",
      "Recall score for third classifer: 90.64%\n",
      "Precision score for third classifer: 93.02%\n",
      "Auc Score for third classifier: 94.25%\n",
      "================================================\n",
      "\n"
     ]
    }
   ],
   "source": [
    "#First Classifer: \n",
    "y_pred1 = clf.predict(X_test)\n",
    "print('Confusion Matrix for first classifer:\\n ',confusion_matrix(y_test, y_pred1), '\\n')\n",
    "print('Recall score for first classifer: {:.2f}'.format(recall_score(y_test, y_pred1)*100)+'%')\n",
    "print('Precision score for first classifer: {:.2f}'.format(precision_score(y_test,y_pred1)*100)+'%')\n",
    "print('Auc Score for first classifier: {:.2f}'.format(roc_auc_score(y_test, y_pred1)*100)+'%\\n================================================\\n')\n",
    "\n",
    "#Second Classifier....Restriction on the max depth of the decision trees: \n",
    "y_pred2 = clf_d5.predict(X_test)\n",
    "print('Confusion Matrix for second classifer:\\n ',confusion_matrix(y_test, y_pred2), '\\n')\n",
    "print('Recall score for second classifer: {:.2f}'.format(recall_score(y_test, y_pred2)*100)+'%')\n",
    "print('Precision score for second classifer: {:.2f}'.format(precision_score(y_test,y_pred2)*100)+'%')\n",
    "print('Auc Score for second classifier: {:.2f}'.format(roc_auc_score(y_test, y_pred2)*100)+'%\\n================================================\\n')\n",
    "\n",
    "#Thid Classifer..... Restriction on the minimum number of samples: \n",
    "y_pred3 = clf_s100.predict(X_test)\n",
    "print('Confusion Matrix for third classifer:\\n ',confusion_matrix(y_test, y_pred3), '\\n')\n",
    "print('Recall score for third classifer: {:.2f}'.format(recall_score(y_test, y_pred3)*100)+'%')\n",
    "print('Precision score for third classifer: {:.2f}'.format(precision_score(y_test,y_pred3)*100)+'%')\n",
    "print('Auc Score for third classifier: {:.2f}'.format(roc_auc_score(y_test, y_pred3)*100)+'%\\n================================================\\n')"
   ]
  },
  {
   "cell_type": "markdown",
   "metadata": {},
   "source": [
    "# Metric Evaluation: <br>\n",
    "Evaluating the above metrics, for the first classifer, we can see that we have captured 96.21% of all the people who are churning, but have only correctly classified 92% of the people who are churning in the model. However, looking at the AUC score, we can see that 96.5% of the true cases have been correctly  classified. We have correctly classified 96.5% of the employees who are leaving, and staying with the company.<br><br>When examining the following models with for the restrictions placed, second classifer(Max_depth restriction), third classifer(Minimum samples), we can see that they don't quite add up in terms of correctly classifying true cases in both leaving and staying the company. (Low auc scores) However, they do provide a better prediction for those who are churning from the company.<br><br>Looking at these scores, I will continue to develop the tree with the depth restriction, if we recall the original percentage evaluation 76% to 24%, this indicates a large class imbalance, which could result in a lower auc score. In other words, the model is more correctly identifying those who stayed are more influential on our model. So I will balance the classes."
   ]
  },
  {
   "cell_type": "code",
   "execution_count": 18,
   "metadata": {},
   "outputs": [
    {
     "name": "stdout",
     "output_type": "stream",
     "text": [
      "Accuracy on the train test 97.89%\n",
      "Accuracy on the test set 97.39%\n",
      "\n",
      "Confusion Matrix for balanced classifer:\n",
      "  [[2814   39]\n",
      " [  59  838]] \n",
      "\n",
      "Recall score for balanced classifer: 93.42%\n",
      "Precision score for balanced classifer: 95.55%\n",
      "Auc Score for balanced classifier: 96.03%\n",
      "================================================\n",
      "\n"
     ]
    }
   ],
   "source": [
    "clf_b = DecisionTreeClassifier(max_depth=7, class_weight='balanced', random_state = 42)\n",
    "\n",
    "clf_b.fit(X_train,y_train)\n",
    "y_pred_b = clf_b.predict(X_test)\n",
    "\n",
    "print('Accuracy on the train test {0:.2f}'.format(clf_b.score(X_train, y_train)*100 )+'%')\n",
    "print('Accuracy on the test set {0:.2f}'.format(clf_b.score(X_test, y_test)*100)+'%\\n')\n",
    "print('Confusion Matrix for balanced classifer:\\n ',confusion_matrix(y_test, y_pred_b), '\\n')\n",
    "print('Recall score for balanced classifer: {:.2f}'.format(recall_score(y_test, y_pred_b)*100)+'%')\n",
    "print('Precision score for balanced classifer: {:.2f}'.format(precision_score(y_test,y_pred_b)*100)+'%')\n",
    "print('Auc Score for balanced classifier: {:.2f}'.format(roc_auc_score(y_test, y_pred_b)*100)+'%\\n================================================\\n')\n"
   ]
  },
  {
   "cell_type": "markdown",
   "metadata": {},
   "source": [
    "## HyperParameter Tuning: <br>\n",
    "I will use GridSearchCV to estimate the best parameters for my model and select parameters I believe will not lead to overfitting the data while also providing the best scores in accurately predicting the employees who will churn and who will Stay(auc score)"
   ]
  },
  {
   "cell_type": "code",
   "execution_count": 19,
   "metadata": {},
   "outputs": [
    {
     "name": "stdout",
     "output_type": "stream",
     "text": [
      "Best parameters across 5 fold Cross Validation:  {'max_depth': 13, 'min_samples_leaf': 50}\n",
      "Best paremter scores across 5 fold Cross Validation: 98.34%\n"
     ]
    }
   ],
   "source": [
    "clf=DecisionTreeClassifier(random_state=42,class_weight='balanced')\n",
    "\n",
    "depths        = [i for i in (range(5,26,1))]\n",
    "sample_leaves = [i for i in (range(50,525,50))]\n",
    "\n",
    "params = {'max_depth':depths, 'min_samples_leaf':sample_leaves}\n",
    "\n",
    "parameter_search = GridSearchCV(clf, param_grid=params, scoring = 'roc_auc', cv = 5)\n",
    "_=parameter_search.fit(X_train,y_train)\n",
    "print('Best parameters across 5 fold Cross Validation: ', parameter_search.best_params_)\n",
    "print('Best paremter scores across 5 fold Cross Validation: {:.2f}'.format(parameter_search.best_score_*100)+'%')"
   ]
  },
  {
   "cell_type": "markdown",
   "metadata": {},
   "source": [
    "# Evaluation: \n",
    "<br>It looks like the best parameters available for this model are a max_depth of 16, and a minimum sample leaf of 25. It scored an average score for AUC as a 98.40% across 5 folds."
   ]
  },
  {
   "cell_type": "code",
   "execution_count": 20,
   "metadata": {},
   "outputs": [
    {
     "name": "stdout",
     "output_type": "stream",
     "text": [
      "Accuracy on the train test 96.93%\n",
      "Accuracy on the test set 96.56%\n",
      "\n",
      "Confusion Matrix for balanced classifer:\n",
      "  [[2801   52]\n",
      " [  77  820]] \n",
      "\n",
      "Recall score for balanced classifer: 91.42%\n",
      "Precision score for balanced classifer: 94.04%\n",
      "Auc Score for balanced classifier: 94.80%\n",
      "================================================\n",
      "\n"
     ]
    }
   ],
   "source": [
    "clf_best = DecisionTreeClassifier(max_depth = 13, min_samples_leaf=50, random_state = 42, class_weight='balanced')\n",
    "\n",
    "clf_best.fit(X_train,y_train)\n",
    "y_pred_best = clf_best.predict(X_test)\n",
    "\n",
    "print('Accuracy on the train test {0:.2f}'.format(clf_best.score(X_train, y_train)*100 )+'%')\n",
    "print('Accuracy on the test set {0:.2f}'.format(clf_best.score(X_test, y_test)*100)+'%\\n')\n",
    "print('Confusion Matrix for balanced classifer:\\n ',confusion_matrix(y_test, y_pred_best), '\\n')\n",
    "print('Recall score for balanced classifer: {:.2f}'.format(recall_score(y_test, y_pred_best)*100)+'%')\n",
    "print('Precision score for balanced classifer: {:.2f}'.format(precision_score(y_test,y_pred_best)*100)+'%')\n",
    "print('Auc Score for balanced classifier: {:.2f}'.format(roc_auc_score(y_test, y_pred_best)*100)+'%\\n================================================\\n')"
   ]
  },
  {
   "cell_type": "markdown",
   "metadata": {},
   "source": [
    "# Evaluating Important features of a model to increase computational efficiency and increase interpretability:"
   ]
  },
  {
   "cell_type": "code",
   "execution_count": 21,
   "metadata": {},
   "outputs": [
    {
     "name": "stdout",
     "output_type": "stream",
     "text": [
      "DataFrame of Features before importance sort:\n",
      "====================================\n",
      "                        Importance\n",
      "satisfaction            0.476645\n",
      "evaluation              0.097060\n",
      "number_of_projects      0.014526\n",
      "average_montly_hours    0.042649\n",
      "time_spend_company      0.365949\n",
      "DataFrame of Features after importance sort: \n",
      "====================================\n",
      "                       Importance\n",
      "satisfaction            0.476645\n",
      "time_spend_company      0.365949\n",
      "evaluation              0.097060\n",
      "average_montly_hours    0.042649\n",
      "number_of_projects      0.014526\n"
     ]
    }
   ],
   "source": [
    "feature_importances = clf_best.feature_importances_\n",
    "\n",
    "feat_list = list(X)\n",
    "\n",
    "features_df = pd.DataFrame(index=feat_list, data = feature_importances, columns = ['Importance'])\n",
    "\n",
    "print('DataFrame of Features before importance sort:\\n====================================\\n ', features_df.head())\n",
    "features_df = features_df.sort_values(by='Importance', ascending=False)\n",
    "print('DataFrame of Features after importance sort: \\n====================================\\n', features_df.head())"
   ]
  },
  {
   "cell_type": "markdown",
   "metadata": {},
   "source": [
    "<br>==================================================<br>\n",
    "It looks like the two most important features in terms of prediction are satisfaction, and evaluation of the employee: \n",
    "<br>==================================================<br>"
   ]
  },
  {
   "cell_type": "code",
   "execution_count": 22,
   "metadata": {},
   "outputs": [
    {
     "name": "stdout",
     "output_type": "stream",
     "text": [
      "Amount of features before filtering: \n",
      " 17\n",
      "Amount of features after filtering: \n",
      " 5\n"
     ]
    }
   ],
   "source": [
    "imp_features = features_df[features_df['Importance'] >= 0.01]\n",
    "print('Amount of features before filtering: \\n',len(features_df))\n",
    "print('Amount of features after filtering: \\n', len(imp_features))\n",
    "important_features = imp_features.index  \n",
    "\n",
    "X_importance_train = X_train[important_features]\n",
    "X_importance_test  = X_test[important_features]"
   ]
  },
  {
   "cell_type": "markdown",
   "metadata": {},
   "source": [
    "## Training and evaluating the new model based off of selected important features and the optimized parameters from the last section:\n"
   ]
  },
  {
   "cell_type": "code",
   "execution_count": 23,
   "metadata": {},
   "outputs": [
    {
     "name": "stdout",
     "output_type": "stream",
     "text": [
      "Accuracy on the train test 96.93%\n",
      "Accuracy on the test set 96.56%\n",
      "\n",
      "Confusion Matrix for balanced classifer:\n",
      "  [[2801   52]\n",
      " [  77  820]] \n",
      "\n",
      "Recall score for balanced classifer: 91.42%\n",
      "Precision score for balanced classifer: 94.04%\n",
      "Auc Score for balanced classifier: 94.80%\n",
      "================================================\n",
      "\n"
     ]
    }
   ],
   "source": [
    "clf_best2 = DecisionTreeClassifier(max_depth = 13, min_samples_leaf=50, random_state = 42, class_weight='balanced')\n",
    "\n",
    "clf_best2.fit(X_importance_train,y_train)\n",
    "y_pred_best2 = clf_best2.predict(X_importance_test)\n",
    "\n",
    "print('Accuracy on the train test {0:.2f}'.format(clf_best2.score(X_importance_train, y_train)*100 )+'%')\n",
    "print('Accuracy on the test set {0:.2f}'.format(clf_best2.score(X_importance_test, y_test)*100)+'%\\n')\n",
    "print('Confusion Matrix for balanced classifer:\\n ',confusion_matrix(y_test, y_pred_best2), '\\n')\n",
    "print('Recall score for balanced classifer: {:.2f}'.format(recall_score(y_test, y_pred_best2)*100)+'%')\n",
    "print('Precision score for balanced classifer: {:.2f}'.format(precision_score(y_test,y_pred_best2)*100)+'%')\n",
    "print('Auc Score for balanced classifier: {:.2f}'.format(roc_auc_score(y_test, y_pred_best2)*100)+'%\\n================================================\\n')"
   ]
  },
  {
   "cell_type": "markdown",
   "metadata": {},
   "source": [
    "## Visualization:"
   ]
  },
  {
   "cell_type": "code",
   "execution_count": 24,
   "metadata": {},
   "outputs": [
    {
     "data": {
      "text/plain": [
       "True"
      ]
     },
     "execution_count": 24,
     "metadata": {},
     "output_type": "execute_result"
    }
   ],
   "source": [
    "X_g = X[important_features]\n",
    "\n",
    "clf_best2.fit(X_importance_train, y_train)\n",
    "\n",
    "\n",
    "export_graphviz(clf_best, out_file = 'tees.dot', filled = True, rounded = True, feature_names=X.columns)\n",
    "\n",
    "\n",
    "\n",
    "dot_data = export_graphviz(clf_best2,\n",
    "                                feature_names=X_g.columns,\n",
    "                                out_file=None,\n",
    "                                filled=True,\n",
    "                                rounded=True)\n",
    "graph = pydotplus.graph_from_dot_data(dot_data)\n",
    "\n",
    "colors = ('turquoise', 'orange')\n",
    "edges = collections.defaultdict(list)\n",
    "\n",
    "for edge in graph.get_edge_list():\n",
    "    edges[edge.get_source()].append(int(edge.get_destination()))\n",
    "\n",
    "for edge in edges:\n",
    "    edges[edge].sort()    \n",
    "    for i in range(2):\n",
    "        dest = graph.get_node(str(edges[edge][i]))[0]\n",
    "        dest.set_fillcolor(colors[i])\n",
    "\n",
    "graph.write_png('tree.png')\n"
   ]
  },
  {
   "cell_type": "markdown",
   "metadata": {},
   "source": [
    "## Test Run:"
   ]
  },
  {
   "cell_type": "code",
   "execution_count": 98,
   "metadata": {},
   "outputs": [
    {
     "name": "stdout",
     "output_type": "stream",
     "text": [
      "3750\n",
      "Test 1:\n",
      "\n",
      "Churn in the Stay prediction list: False\n",
      "Stay in the Churn prediction list: False\n",
      "\n",
      "\n",
      "Churn in the Stay real test data list: False\n",
      "Stay in the Churn real test data list: False\n",
      "\n",
      "\n",
      "Percentage of employees who stay in prediction 0.23%\n",
      "Percentage of employees who stay in actual test data 0.24%\n",
      "\n",
      "============================================================\n",
      "3750\n",
      "Test 2:\n",
      "\n",
      "Churn in the Stay prediction list: False\n",
      "Stay in the Churn prediction list: False\n",
      "\n",
      "\n",
      "Churn in the Stay real test data list: False\n",
      "Stay in the Churn real test data list: False\n",
      "\n",
      "\n",
      "Percentage of employees who stay in prediction 0.22%\n",
      "Percentage of employees who stay in actual test data 0.24%\n",
      "\n",
      "============================================================\n",
      "3750\n",
      "Test 3:\n",
      "\n",
      "Churn in the Stay prediction list: False\n",
      "Stay in the Churn prediction list: False\n",
      "\n",
      "\n",
      "Churn in the Stay real test data list: False\n",
      "Stay in the Churn real test data list: False\n",
      "\n",
      "\n",
      "Percentage of employees who stay in prediction 0.24%\n",
      "Percentage of employees who stay in actual test data 0.24%\n",
      "\n",
      "============================================================\n",
      "3750\n",
      "Test 4:\n",
      "\n",
      "Churn in the Stay prediction list: False\n",
      "Stay in the Churn prediction list: False\n",
      "\n",
      "\n",
      "Churn in the Stay real test data list: False\n",
      "Stay in the Churn real test data list: False\n",
      "\n",
      "\n",
      "Percentage of employees who stay in prediction 0.24%\n",
      "Percentage of employees who stay in actual test data 0.24%\n",
      "\n",
      "============================================================\n",
      "3750\n",
      "Test 5:\n",
      "\n",
      "Churn in the Stay prediction list: False\n",
      "Stay in the Churn prediction list: False\n",
      "\n",
      "\n",
      "Churn in the Stay real test data list: False\n",
      "Stay in the Churn real test data list: False\n",
      "\n",
      "\n",
      "Percentage of employees who stay in prediction 0.23%\n",
      "Percentage of employees who stay in actual test data 0.24%\n",
      "\n",
      "============================================================\n"
     ]
    }
   ],
   "source": [
    "prediction_map = {\n",
    "    0:'Stay',\n",
    "    1:'Churn'\n",
    "    \n",
    "}\n",
    "\n",
    "counter = 1\n",
    "while counter < 6:\n",
    "    \n",
    "    print(len(y_test))\n",
    "    stay   = []\n",
    "    churn  = []\n",
    "\n",
    "    for i in range(3750):\n",
    "        random_sample_with_replacement = X_importance_test.sample(n=1)\n",
    "        array=clf_best2.predict(random_sample_with_replacement)\n",
    "        #print(array)\n",
    "        outcome = prediction_map[array[0]]\n",
    "        #print(prediction_map[array[0]])\n",
    "        if outcome == 'Stay':\n",
    "            stay.append(outcome)\n",
    "        else:\n",
    "            churn.append(outcome)\n",
    "        \n",
    "    stay_test      = []\n",
    "    churn_test     = []\n",
    "\n",
    "    for i in y_test:\n",
    "        if i == 1:\n",
    "            churn_test.append(i)\n",
    "        else:\n",
    "            stay_test.append(i)\n",
    "\n",
    "    print('Test', str(counter)+':\\n') \n",
    "    print('Churn in the Stay prediction list:',('Churn' in stay))\n",
    "    print('Stay in the Churn prediction list:',('Stay' in churn))\n",
    "    print('\\n')\n",
    "    print('Churn in the Stay real test data list:',(1 in stay_test))\n",
    "    print('Stay in the Churn real test data list:',(0 in churn_test))\n",
    "    print('\\n')\n",
    "    print('Percentage of employees who stay in prediction {:.2f}'.format(len(churn)/(len(churn)+len(stay)))+'%')\n",
    "    print('Percentage of employees who stay in actual test data {:.2f}'.format(len(churn_test)/(len(churn_test)+len(stay_test)))+'%')\n",
    "    print('\\n============================================================')\n",
    "    counter +=1"
   ]
  },
  {
   "cell_type": "markdown",
   "metadata": {},
   "source": [
    "======================================================================<br>\n",
    "After running three test, randomly sampling with replacement from the y_test split data, we can see that the predictor accurately within 1% of predicting whether the employee will churn based off of the X_test data. What the above test does, is loop through 3750(length of y_test) randomly drawn from the y_test data and appends the classification to a set of lists depending on the classification. The same is done for the y_test(actual values). The percentage of employees churned out of all samples are calculated and then compared with one another as displayed. The compositions are within 1 percentage of eachother."
   ]
  },
  {
   "cell_type": "code",
   "execution_count": null,
   "metadata": {},
   "outputs": [],
   "source": []
  }
 ],
 "metadata": {
  "kernelspec": {
   "display_name": "Python 3",
   "language": "python",
   "name": "python3"
  },
  "language_info": {
   "codemirror_mode": {
    "name": "ipython",
    "version": 3
   },
   "file_extension": ".py",
   "mimetype": "text/x-python",
   "name": "python",
   "nbconvert_exporter": "python",
   "pygments_lexer": "ipython3",
   "version": "3.6.5"
  }
 },
 "nbformat": 4,
 "nbformat_minor": 2
}
